{
 "cells": [
  {
   "cell_type": "markdown",
   "id": "ab028ff4",
   "metadata": {},
   "source": [
    "# Multivariate Gaussian Distributions: Marginalization and Conditioning"
   ]
  },
  {
   "cell_type": "code",
   "execution_count": 9,
   "id": "827727f3",
   "metadata": {},
   "outputs": [],
   "source": [
    "from typing import Tuple\n",
    "import math\n",
    "import numpy as np\n",
    "import matplotlib.pyplot as plt\n",
    "from scipy import stats"
   ]
  },
  {
   "cell_type": "code",
   "execution_count": 10,
   "id": "fc759ed0",
   "metadata": {},
   "outputs": [],
   "source": [
    "mu_all = np.zeros(2)\n",
    "cov_one = np.array([[1.0, 0.5], [0.5, 1.0]])\n",
    "cov_two = np.array([[1.0, 0.0], [0.0, 1.0]])\n",
    "cov_three = np.array([[1.0, -0.5], [-0.5, 1.0]])"
   ]
  },
  {
   "cell_type": "markdown",
   "id": "2757204d",
   "metadata": {},
   "source": [
    "### Multivariate Gaussian PDF Implementation"
   ]
  },
  {
   "cell_type": "code",
   "execution_count": 11,
   "id": "60dcb0e2",
   "metadata": {},
   "outputs": [],
   "source": [
    "def multivariate_gaussian_pdf(x_vec: np.ndarray, mu_vec: np.ndarray, covariance_matrix: np.ndarray) -> float:\n",
    "    \"\"\"\n",
    "    Calculates the probability density function of a multivariate Gaussian.\n",
    "\n",
    "    Args:\n",
    "        x_vec: Vector at which to evaluate the pdf.\n",
    "        mu_vec: Mean of distribution.\n",
    "        covariance_matrix: Covariance matrix of the distribution.\n",
    "\n",
    "    Returns:\n",
    "        Probability density function value at location x_vec.\n",
    "    \"\"\"\n",
    "\n",
    "    d = len(x_vec)\n",
    "    x_centered = x_vec - mu_vec\n",
    "    cov_det = np.linalg.det(covariance_matrix)\n",
    "    constant = 1/(pow(2*math.pi, d/2) * pow(cov_det, 0.5))\n",
    "\n",
    "    return constant * np.exp(-0.5 * np.transpose(x_centered) * np.linalg.inv(covariance_matrix) * x_centered)"
   ]
  },
  {
   "cell_type": "code",
   "execution_count": 12,
   "id": "fe6a063a",
   "metadata": {},
   "outputs": [
    {
     "ename": "ValueError",
     "evalue": "The truth value of an array with more than one element is ambiguous. Use a.any() or a.all()",
     "output_type": "error",
     "traceback": [
      "\u001b[31m---------------------------------------------------------------------------\u001b[39m",
      "\u001b[31mValueError\u001b[39m                                Traceback (most recent call last)",
      "\u001b[36mCell\u001b[39m\u001b[36m \u001b[39m\u001b[32mIn[12]\u001b[39m\u001b[32m, line 4\u001b[39m\n\u001b[32m      2\u001b[39m my_pdf = multivariate_gaussian_pdf(test_point, mu_all, cov_one)\n\u001b[32m      3\u001b[39m scipy_pdf = stats.multivariate_normal.pdf(test_point, mu_all, cov_one)\n\u001b[32m----> \u001b[39m\u001b[32m4\u001b[39m \u001b[38;5;28;01massert\u001b[39;00m np.round(my_pdf - scipy_pdf, \u001b[32m6\u001b[39m) == \u001b[32m0\u001b[39m, \u001b[33m\"\u001b[39m\u001b[33mThe two values do not agree. Did you forget the terms outside the exponential?\u001b[39m\u001b[33m\"\u001b[39m\n",
      "\u001b[31mValueError\u001b[39m: The truth value of an array with more than one element is ambiguous. Use a.any() or a.all()"
     ]
    }
   ],
   "source": [
    "test_point = np.array([1.01, 0.22])\n",
    "my_pdf = multivariate_gaussian_pdf(test_point, mu_all, cov_one)\n",
    "scipy_pdf = stats.multivariate_normal.pdf(test_point, mu_all, cov_one)\n",
    "assert np.round(my_pdf - scipy_pdf, 6) == 0, \"The two values do not agree. Did you forget the terms outside the exponential?\""
   ]
  },
  {
   "cell_type": "markdown",
   "id": "288e37e1",
   "metadata": {},
   "source": [
    "Comparing the time taken by the above function to scipy"
   ]
  },
  {
   "cell_type": "code",
   "execution_count": null,
   "id": "05a5a957",
   "metadata": {},
   "outputs": [],
   "source": [
    "%%timeit\n",
    "multivariate_gaussian_pdf(test_point, mu_all, cov_one)"
   ]
  },
  {
   "cell_type": "code",
   "execution_count": null,
   "id": "7928be93",
   "metadata": {},
   "outputs": [],
   "source": [
    "%%timeit\n",
    "stats.multivariate_normal.pdf(test_point, mu_all, cov_one)"
   ]
  },
  {
   "cell_type": "code",
   "execution_count": null,
   "id": "84d6f389",
   "metadata": {},
   "outputs": [],
   "source": [
    "# We can use numpy's vectorize capability to vectorize our pdf function.\n",
    "mg_pdf_vectorized = np.vectorize(multivariate_gaussian_pdf, signature='(n), (n), (n,n) -> ()')\n",
    "\n",
    "# We can also use numpy's meshgrid to get the points to evaluate\n",
    "x1_points, x2_points = np.meshgrid(np.linspace(-2,2,100), np.linspace(-2,2,100))\n",
    "x_vec_points = np.stack([x1_points, x2_points], axis=-1)"
   ]
  },
  {
   "cell_type": "code",
   "execution_count": null,
   "id": "4406c315",
   "metadata": {},
   "outputs": [],
   "source": [
    "def plot_pdf_and_covariance(covariance_matrix:np.ndarray, color='black'):\n",
    "    # Use the vectorized function to evaluate the pdf.\n",
    "    pdf_evaluations = mg_pdf_vectorized(x_vec_points, mu_all, covariance_matrix)\n",
    "    \n",
    "    fig, ax = plt.subplots(1, 2, figsize=(10,5))\n",
    "    ax[0].contour(x1_points, x2_points, pdf_evaluations/np.max(pdf_evaluations), levels=[ np.exp(-1),np.exp(-0.5)], \n",
    "                  colors=color, linewidths=3)\n",
    "    ax[0].set_xlabel(r'$x_1$')\n",
    "    ax[0].set_ylabel(r'$x_2$')\n",
    "    ax[0].set_title('pdf')\n",
    "    ax[1].imshow(covariance_matrix, cmap='bwr', vmax=1, vmin=-1)\n",
    "    ax[1].set_xticks([0,1])\n",
    "    ax[1].set_xticklabels([r'$x_1$',r'$x_2$'])\n",
    "    ax[1].set_yticks([0,1])\n",
    "    ax[1].set_yticklabels([r'$x_1$',r'$x_2$'])\n",
    "    ax[1].set_title('Covariance Matrix')\n",
    "\n",
    "    for x_1 in range(2):\n",
    "        for x_2 in range(2):\n",
    "            ax[1].text(x_1, x_2, covariance_matrix[x_1, x_2], fontsize=20, ha='center', va='center')\n",
    "    \n",
    "    plt.show()\n",
    "\n",
    "plot_pdf_and_covariance(cov_one, '#1b9e77')\n",
    "plot_pdf_and_covariance(cov_two, '#d95f02')\n",
    "plot_pdf_and_covariance(cov_three, '#7570b3')"
   ]
  },
  {
   "cell_type": "markdown",
   "id": "cd66e760",
   "metadata": {},
   "source": [
    "### Marginal Distribution of Multivariate Gaussian Distribution "
   ]
  },
  {
   "cell_type": "code",
   "execution_count": null,
   "id": "d130e741",
   "metadata": {},
   "outputs": [],
   "source": [
    "def marginal_mean_covariance(mu_vec: np.ndarray, covariance_matrix: np.ndarray, marginal_index:int) -> Tuple[np.ndarray, np.ndarray]:\n",
    "    \"\"\"\n",
    "    Calculates the marginalized mean and covariance matrix of a multivariate Gaussian.\n",
    "\n",
    "    Args:\n",
    "        mu_vec: Mean of distribution.\n",
    "        covariance_matrix: Covariance matrix of the distribution.\n",
    "        marginal_index: Variable index to marginalize on.\n",
    "\n",
    "    Returns:\n",
    "        Mean and covariance of marginalized Gaussian.\n",
    "\n",
    "    Notes:\n",
    "        The easiest way to do this is to permute the vector and matrix so that the mariginal_index is the last index.\n",
    "        Some functions you may find useful beyond the ones you've already used:\n",
    "        - np.delete\n",
    "    \"\"\"\n",
    "\n",
    "    marginal_mu = np.delete(mu_vec, marginal_index)\n",
    "    marginal_cov = np.delete(covariance_matrix, )\n",
    "\n",
    "    return marginal_mu, marginal_cov"
   ]
  },
  {
   "cell_type": "code",
   "execution_count": null,
   "id": "89b6400a",
   "metadata": {},
   "outputs": [],
   "source": [
    "def marginal_mean_covariance(mu_vec: np.ndarray, covariance_matrix: np.ndarray, marginal_index:int) -> Tuple[np.ndarray, np.ndarray]:\n",
    "    \"\"\"\n",
    "    Calculates the marginalized mean and covariance matrix of a multivariate Gaussian.\n",
    "\n",
    "    Args:\n",
    "        mu_vec: Mean of distribution.\n",
    "        covariance_matrix: Covariance matrix of the distribution.\n",
    "        marginal_index: Variable index to marginalize on.\n",
    "\n",
    "    Returns:\n",
    "        Mean and covariance of marginalized Gaussian.\n",
    "\n",
    "    Notes:\n",
    "        The easiest way to do this is to permute the vector and matrix so that the mariginal_index is the last index.\n",
    "        Some functions you may find useful beyond the ones you've already used:\n",
    "        - np.delete\n",
    "    \"\"\"\n",
    "\n",
    "    n = mu_vec.shape[0]\n",
    "\n",
    "    perm = []\n",
    "    for i in range(n):\n",
    "        if (i != marginal_index):\n",
    "            perm.append(i)\n",
    "\n",
    "    perm.append(marginal_index)\n",
    "\n",
    "    mu_perm = mu_vec[perm]\n",
    "    cov_perm = covariance_matrix[perm]\n",
    "\n",
    "    marginal_mu = mu_perm[:-1]\n",
    "    marginal_cov = mu_perm[]\n",
    "\n",
    "    return marginal_mu, marginal_cov"
   ]
  },
  {
   "cell_type": "markdown",
   "id": "7b6d5f55",
   "metadata": {},
   "source": [
    "### Marginal Gaussian PDF"
   ]
  },
  {
   "cell_type": "code",
   "execution_count": null,
   "id": "07ab8ded",
   "metadata": {},
   "outputs": [],
   "source": [
    "def marginal_gaussian_pdf(x_vec: np.ndarray, mu_vec: np.ndarray, covariance_matrix: np.ndarray,\n",
    "                             marginal_index:int) -> float:\n",
    "    \"\"\"\n",
    "    Calculates the marginalized probability density function of a multivariate Gaussian.\n",
    "\n",
    "    Args:\n",
    "        x_vec: Vector at which to evaluate the pdf.\n",
    "        mu_vec: Mean of distribution.\n",
    "        covariance_matrix: Covariance matrix of the distribution.\n",
    "        marginal_index: Variable index to marginalize on.\n",
    "\n",
    "    Returns:\n",
    "        Probability density function value at location x_vec.\n",
    "    \"\"\"\n",
    "    mu_marg, cov_marg = marginal_mean_covariance(mu_vec, covariance_matrix, marginal_index)\n",
    "\n",
    "    return multivariate_gaussian_pdf(x_vec, mu_marg, cov_marg)"
   ]
  },
  {
   "cell_type": "markdown",
   "id": "e6bfc9cd",
   "metadata": {},
   "source": [
    "### Conditional Distribution of Multivariate Gaussian Distribution "
   ]
  },
  {
   "cell_type": "code",
   "execution_count": null,
   "id": "8f14bc80",
   "metadata": {},
   "outputs": [],
   "source": [
    "def conditioned_mean_covariance(mu_vec: np.ndarray, covariance_matrix: np.ndarray, condition_index:int, \n",
    "                                condition_value:float) -> Tuple[np.ndarray, np.ndarray]:\n",
    "    \"\"\"\n",
    "    Calculates the conditioned mean and covariance matrix of a multivariate Gaussian.\n",
    "\n",
    "    Args:\n",
    "        mu_vec: Mean of distribution.\n",
    "        covariance_matrix: Covariance matrix of the distribution.\n",
    "        conditioned_index: Variable index to condition on.\n",
    "        conditioned_value: Value of the variable to condition on.\n",
    "\n",
    "    Returns:\n",
    "        Mean and covariance of conditioned Gaussian.\n",
    "\n",
    "    Notes:\n",
    "        The easiest way to do this is to permute the vector and matrix so that the condition_index is the last index. \n",
    "        Some functions you may find useful beyond the ones you've already used:\n",
    "        - np.delete\n",
    "        - np.squeeze\n",
    "    \"\"\""
   ]
  },
  {
   "cell_type": "markdown",
   "id": "671d54ca",
   "metadata": {},
   "source": [
    "### Conditional Gaussian PDF"
   ]
  },
  {
   "cell_type": "code",
   "execution_count": null,
   "id": "d5bfaae9",
   "metadata": {},
   "outputs": [],
   "source": [
    "def conditioned_gaussian_pdf(x_vec: np.ndarray, mu_vec: np.ndarray, covariance_matrix: np.ndarray,\n",
    "                             condition_index:int, condition_value:float) -> float:\n",
    "    \"\"\"\n",
    "    Calculates the conditioned probability density function of a multivariate Gaussian.\n",
    "\n",
    "    Args:\n",
    "        x_vec: Vector at which to evaluate the pdf.\n",
    "        mu_vec: Mean of distribution.\n",
    "        covariance_matrix: Covariance matrix of the distribution.\n",
    "        conditioned_index: Variable index to condition on.\n",
    "        conditioned_value: Value of the variable to condition on.\n",
    "\n",
    "    Returns:\n",
    "        Probability density function value at location x_vec.\n",
    "    \"\"\"\n",
    "    mu_cond, cov_cond = conditioned_mean_covariance(mu_vec, covariance_matrix, condition_index, condition_value)\n",
    "\n",
    "    return multivariate_gaussian_pdf(x_vec, mu_cond, cov_cond)"
   ]
  },
  {
   "cell_type": "code",
   "execution_count": null,
   "id": "36bb1f07",
   "metadata": {},
   "outputs": [],
   "source": [
    "# Let's test our functions to make sure they give the right values.\n",
    "# This block will output nothing if the code above is correct.\n",
    "# Test the marginal\n",
    "mu_four = np.array([0.2, 0.3, -0.2])\n",
    "cov_four = np.array([[1.0, 0.5, 0.2],[0.5, 1.0, 0.5], [0.2, 0.5, 1.0]])\n",
    "my_mean, my_covariance = marginal_mean_covariance(mu_four, cov_four, marginal_index=1)\n",
    "correct_mean, correct_covariance = (np.array([0.2, -0.2]), np.array([[1.0, 0.2],[0.2, 1.0]]))\n",
    "np.testing.assert_array_almost_equal(my_mean, correct_mean)\n",
    "np.testing.assert_array_almost_equal(my_covariance, correct_covariance)\n",
    "\n",
    "# Test the conditional\n",
    "my_mean, my_covariance = conditioned_mean_covariance(mu_four, cov_four, condition_index=1, condition_value=1.3)\n",
    "correct_mean, correct_covariance = (np.array([0.7, 0.3]), np.array([[0.75, -0.05],[-0.05, 0.75]]))\n",
    "np.testing.assert_array_almost_equal(my_mean, correct_mean)\n",
    "np.testing.assert_array_almost_equal(my_covariance, correct_covariance)"
   ]
  },
  {
   "cell_type": "markdown",
   "id": "be0ddb9c",
   "metadata": {},
   "source": [
    "Let's consider our three-dimensional covariance matrix and see how marginalizing changes the distribution."
   ]
  },
  {
   "cell_type": "code",
   "execution_count": null,
   "id": "e413f45d",
   "metadata": {},
   "outputs": [],
   "source": [
    "fig, ax = plt.subplots(1, 1, figsize=(10,5))\n",
    "ax.imshow(cov_four, cmap='bwr', vmax=1, vmin=-1)\n",
    "ax.set_xticks([0,1,2])\n",
    "ax.set_xticklabels([r'$x_1$',r'$x_2$',r'$x_3$'])\n",
    "ax.set_yticks([0,1,2])\n",
    "ax.set_yticklabels([r'$x_1$',r'$x_2$',r'$x_3$'])\n",
    "ax.set_title('Covariance Matrix')\n",
    "\n",
    "for x_1 in range(3):\n",
    "    for x_2 in range(3):\n",
    "        ax.text(x_1, x_2, cov_four[x_1, x_2], fontsize=20, ha='center', va='center')\n",
    "\n",
    "fig, ax = plt.subplots(1, 1, figsize=(10,5))\n",
    "_, cov_marg_x_three = conditioned_mean_covariance(mu_four, cov_four, condition_index=2, condition_value=0.0)\n",
    "ax.imshow(cov_marg_x_three, cmap='bwr', vmax=1, vmin=-1)\n",
    "ax.set_xticks([0,1])\n",
    "ax.set_xticklabels([r'$x_1$',r'$x_2$'])\n",
    "ax.set_yticks([0,1])\n",
    "ax.set_yticklabels([r'$x_1$',r'$x_2$'])\n",
    "ax.set_title(r'Covariance Matrix Marginalized over $x_3$')\n",
    "\n",
    "for x_1 in range(2):\n",
    "    for x_2 in range(2):\n",
    "        ax.text(x_1, x_2, cov_four[x_1, x_2], fontsize=20, ha='center', va='center')\n",
    "\n",
    "plt.show()"
   ]
  }
 ],
 "metadata": {
  "kernelspec": {
   "display_name": "Python 3",
   "language": "python",
   "name": "python3"
  },
  "language_info": {
   "codemirror_mode": {
    "name": "ipython",
    "version": 3
   },
   "file_extension": ".py",
   "mimetype": "text/x-python",
   "name": "python",
   "nbconvert_exporter": "python",
   "pygments_lexer": "ipython3",
   "version": "3.12.1"
  }
 },
 "nbformat": 4,
 "nbformat_minor": 5
}
